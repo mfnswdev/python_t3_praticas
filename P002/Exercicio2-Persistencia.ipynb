{
 "cells": [
  {
   "cell_type": "code",
   "execution_count": null,
   "id": "4dad4d3e-291d-4fda-b813-595f308367c5",
   "metadata": {},
   "outputs": [],
   "source": [
    "Em Python, para lidar com arquivos e persistir dados, podemos usar operações de entrada e saída de arquivos. Para modificar o aplicativo de lista de tarefas para armazenar os dados em um arquivo, podemos fazer uso das funções open(), read(), write() e close() para trabalhar com arquivos de texto simples.\n",
    "Aqui está um exemplo de como modificar o aplicativo para utilizar um arquivo para armazenar as tarefas:\n",
    "\n",
    "# Função para carregar tarefas do arquivo\n",
    "def carregar_tarefas():\n",
    "    try:\n",
    "        with open('tarefas.txt', 'r') as arquivo:\n",
    "            linhas = arquivo.readlines()\n",
    "            for linha in linhas:\n",
    "                descricao, realizada = linha.strip().split(';')\n",
    "                tarefas.append({'descricao': descricao, 'realizada': realizada == 'True'})\n",
    "    except FileNotFoundError:\n",
    "        # Se o arquivo não existir, cria-se uma lista vazia de tarefas\n",
    "        pass\n",
    "\n",
    "# Função para salvar tarefas no arquivo\n",
    "def salvar_tarefas():\n",
    "    with open('tarefas.txt', 'w') as arquivo:\n",
    "        for tarefa in tarefas:\n",
    "            realizado = 'True' if tarefa['realizada'] else 'False'\n",
    "            arquivo.write(f\"{tarefa['descricao']};{realizado}\\n\")\n",
    "\n",
    "# Antes do loop principal, carregamos as tarefas do arquivo (se existir)\n",
    "carregar_tarefas()\n",
    "\n",
    "# Dentro da função para registrar uma nova tarefa\n",
    "def registrar_tarefa():\n",
    "    # ... (código existente para registrar uma nova tarefa)\n",
    "    salvar_tarefas()  # Salvando as tarefas no arquivo após registrar uma nova tarefa\n",
    "\n",
    "# Dentro da função para marcar uma tarefa como realizada\n",
    "def marcar_como_realizada():\n",
    "    # ... (código existente para marcar tarefa como realizada)\n",
    "    salvar_tarefas()  # Salvando as tarefas no arquivo após marcar como realizada\n",
    "\n",
    "# Dentro da função para editar uma tarefa\n",
    "def editar_tarefa():\n",
    "    # ... (código existente para editar tarefa)\n",
    "    salvar_tarefas()  # Salvando as tarefas no arquivo após editar uma tarefa\n",
    "\n",
    "# No final do programa salvamos as tarefas no arquivo\n",
    "salvar_tarefas()\n",
    "\n",
    "a função carregar_tarefas() é usada para ler os dados do arquivo tarefas.txt (se existir) e carregar as tarefas para a lista tarefas no início do programa. A função salvar_tarefas() é responsável por escrever as tarefas no arquivo após cada operação que modifica a lista de tarefas.\n",
    "\n",
    "Essas modificações permitem que o aplicativo armazene as tarefas em um arquivo de texto, preservando os dados entre diferentes execuções do programa. "
   ]
  }
 ],
 "metadata": {
  "kernelspec": {
   "display_name": "anaconda-panel-2023.05-py310",
   "language": "python",
   "name": "conda-env-anaconda-panel-2023.05-py310-py"
  },
  "language_info": {
   "codemirror_mode": {
    "name": "ipython",
    "version": 3
   },
   "file_extension": ".py",
   "mimetype": "text/x-python",
   "name": "python",
   "nbconvert_exporter": "python",
   "pygments_lexer": "ipython3",
   "version": "3.11.5"
  }
 },
 "nbformat": 4,
 "nbformat_minor": 5
}
